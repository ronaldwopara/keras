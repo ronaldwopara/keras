{
 "cells": [
  {
   "cell_type": "markdown",
   "metadata": {},
   "source": [
    "# Validation Techniques"
   ]
  },
  {
   "cell_type": "markdown",
   "metadata": {},
   "source": [
    "### What is Validation?\n",
    "Validation is a form of testing and experimenting with your model, before **evaluating** it on test data. This works by cutting out part of your data, and using it to **tune** your model. We split the data into three sets, Training, Validation and Test sets."
   ]
  },
  {
   "cell_type": "markdown",
   "metadata": {},
   "source": [
    "### Why is Validation Important?\n",
    "\n",
    "It has been said to understand things, we have to observe them. In maching learning, we use validation techniques to observe and tune our models (setting your **hyperparameters**) before finally evaluating your model on the training data. \n",
    "\n",
    "This tuning and experimention, allows your model to acheive better convergence, on data it has never seen before.\n",
    "\n",
    "*Note*: *Hyperparameters are the configurations of your model. For instance, the number of layers your model posseses.*\n",
    "\n",
    "*Note*: *Information leaks: Every time you tune a hyperparameter of your model based on the model’s performance on the validation set, some information about the validation data leaks into the model. That's why we don't use the validation set to evaluate our model's performance, due to the risk of the model learning and getting optimised for your validation set. So we use a new set of data the model hasn't seen before, the test data, to evalute the model's performance*"
   ]
  },
  {
   "cell_type": "markdown",
   "metadata": {},
   "source": [
    "### Examples of Validation Techniques\n",
    "\n",
    "1. Hold-Out Validation\n",
    "\n",
    "2. K-fold Validation\n",
    "\n",
    "3. Iterated K-fold Validation with shuffling"
   ]
  },
  {
   "cell_type": "markdown",
   "metadata": {},
   "source": [
    "#### Hold-Out Validation\n",
    "Set apart some fraction of your data as your validation set. Train on the remaining data, and evaluate on the test set."
   ]
  },
  {
   "cell_type": "markdown",
   "metadata": {},
   "source": [
    "#### Seting up the model"
   ]
  },
  {
   "cell_type": "code",
   "execution_count": null,
   "metadata": {},
   "outputs": [],
   "source": [
    "import numpy as np\n",
    "# Loading the Model\n",
    "from keras.datasets import mnist # type: ignore\n",
    "# Load pre-shuffled MNIST data into train and test sets\n",
    "(X_train, y_train), (X_test, y_test) = mnist.load_data()\n",
    "\n",
    "# Building the Model\n",
    "from keras import models\n",
    "from keras import layers\n",
    "\n",
    "def build_model():\n",
    " network = models.Sequential()\n",
    " network.add(layers.Dense(512, activation='relu', input_shape=(28 * 28,)))\n",
    " network.add(layers.Dense(10, activation='softmax'))\n",
    " return network\n",
    "\n",
    "def train():\n",
    " # Compilation Step\n",
    " model = build_model()\n",
    " model.compile(optimizer='rmsprop',\n",
    "                loss='categorical_crossentropy',\n",
    "                metrics=['accuracy'])\n",
    " \n",
    " # \n",
    " X_train = X_train.reshape((60000, 28 * 28))\n",
    " X_train = X_train.astype('float32') / 255\n",
    " X_test = X_test.reshape((10000, 28 * 28))\n",
    " X_test = X_test.astype('float32') / 255\n"
   ]
  },
  {
   "cell_type": "code",
   "execution_count": 7,
   "metadata": {},
   "outputs": [
    {
     "name": "stdout",
     "output_type": "stream",
     "text": [
      "10000\n"
     ]
    }
   ],
   "source": [
    "# Numpy\n",
    "num_validation_set = 10000\n",
    "\n",
    "np.random.shuffle(X_train)\n",
    "\n",
    "val_set = X_train[:num_validation_set]\n",
    "\n",
    "X_train = X_train[num_validation_set:]\n",
    "\n",
    "training_data = X_train[:]\n",
    "\n",
    "model = build_model()\n",
    "model.train"
   ]
  }
 ],
 "metadata": {
  "kernelspec": {
   "display_name": "base",
   "language": "python",
   "name": "python3"
  },
  "language_info": {
   "codemirror_mode": {
    "name": "ipython",
    "version": 3
   },
   "file_extension": ".py",
   "mimetype": "text/x-python",
   "name": "python",
   "nbconvert_exporter": "python",
   "pygments_lexer": "ipython3",
   "version": "3.1.undefined"
  }
 },
 "nbformat": 4,
 "nbformat_minor": 2
}
